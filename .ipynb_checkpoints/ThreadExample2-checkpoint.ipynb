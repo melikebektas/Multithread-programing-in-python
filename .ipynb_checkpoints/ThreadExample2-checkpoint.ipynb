{
 "cells": [
  {
   "cell_type": "code",
   "execution_count": 2,
   "metadata": {},
   "outputs": [
    {
     "name": "stdout",
     "output_type": "stream",
     "text": [
      "Starting Thread-1\n",
      "Starting Thread-2\n",
      "Thread-1: Mon Nov 12 13:42:11 2018\n",
      "Thread-1: Mon Nov 12 13:42:12 2018Thread-2: Mon Nov 12 13:42:12 2018\n",
      "\n",
      "Thread-1: Mon Nov 12 13:42:13 2018\n",
      "Thread-2: Mon Nov 12 13:42:14 2018\n",
      "Thread-1: Mon Nov 12 13:42:14 2018\n",
      "Thread-1: Mon Nov 12 13:42:15 2018\n",
      "Exiting Thread-1\n",
      "Thread-2: Mon Nov 12 13:42:16 2018\n",
      "Thread-2: Mon Nov 12 13:42:18 2018\n",
      "Thread-2: Mon Nov 12 13:42:20 2018\n",
      "Exiting Thread-2\n"
     ]
    }
   ],
   "source": [
    "import threading \n",
    "import time\n",
    "\n",
    "exitFlag = 0\n",
    "\n",
    "class myThread (threading.Thread):  #myThread isimli sinifimiz Thread sinifindan miras aldı.\n",
    "    \n",
    "    def __init__(self, threadID, name, counter): #myThread isimli sinifin constructori\n",
    "        threading.Thread.__init__(self)\n",
    "        self.threadID = threadID\n",
    "        self.name = name\n",
    "        self.counter = counter\n",
    "        \n",
    "    def run(self):\n",
    "        print (\"Starting \" + self.name)\n",
    "        print_time(self.name, 5, self.counter)\n",
    "        print (\"Exiting \" + self.name)\n",
    "\n",
    "def print_time(threadName, counter, beklemeSuresi):\n",
    "    while counter:\n",
    "        if exitFlag:\n",
    "            threadName.exit()\n",
    "        time.sleep(beklemeSuresi)\n",
    "        print (\"%s: %s\" % (threadName, time.ctime(time.time())))\n",
    "        counter -= 1\n",
    "\n",
    "thread1 = myThread(1, \"Thread-1\", 1) #thread tanımladık\n",
    "thread2 = myThread(2, \"Thread-2\", 2)\n",
    "\n",
    "thread1.start()  #threadleri çalıştırdık\n",
    "thread2.start()"
   ]
  },
  {
   "cell_type": "code",
   "execution_count": null,
   "metadata": {},
   "outputs": [],
   "source": []
  }
 ],
 "metadata": {
  "kernelspec": {
   "display_name": "Python 3",
   "language": "python",
   "name": "python3"
  },
  "language_info": {
   "codemirror_mode": {
    "name": "ipython",
    "version": 3
   },
   "file_extension": ".py",
   "mimetype": "text/x-python",
   "name": "python",
   "nbconvert_exporter": "python",
   "pygments_lexer": "ipython3",
   "version": "3.7.0"
  }
 },
 "nbformat": 4,
 "nbformat_minor": 2
}
