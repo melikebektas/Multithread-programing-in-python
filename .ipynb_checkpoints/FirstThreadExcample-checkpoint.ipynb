{
 "cells": [
  {
   "cell_type": "code",
   "execution_count": 1,
   "metadata": {},
   "outputs": [
    {
     "name": "stdout",
     "output_type": "stream",
     "text": [
      "thread-1 çalışıyor\n",
      "thread-1 çalışıyor\n",
      "thread-1 çalışıyor\n",
      "thread-1 çalışıyor\n",
      "thread-1 çalışıyor\n",
      "thread-1 çalışıyor\n",
      "thread-1 çalışıyor\n",
      "thread-2 çalışıyor\n",
      "thread-2 çalışıyor\n",
      "thread-2 çalışıyor\n",
      "thread-2 çalışıyor\n",
      "thread-2 çalışıyor\n",
      "thread-2 çalışıyor\n",
      "thread-2 çalışıyor\n"
     ]
    }
   ],
   "source": [
    "import threading #threading modülünü import ettik\n",
    "\n",
    "\n",
    "def f(threadName): \n",
    "    i =0\n",
    "    while i<7:\n",
    "        print(threadName ,\"çalışıyor\")\n",
    "        i=i+1\n",
    "\n",
    "\n",
    "t1 = threading.Thread(target=f,args = (\"thread-1\", ))  #threadi tanımladık ve f fonksiyonunu hedef gösterdik\n",
    "t1.start() #threadi çalıştırdık\n",
    "t2 = threading.Thread(target=f,args = (\"thread-2\", ))\n",
    "t2.start()\n"
   ]
  },
  {
   "cell_type": "code",
   "execution_count": 2,
   "metadata": {
    "scrolled": true
   },
   "outputs": [
    {
     "name": "stdout",
     "output_type": "stream",
     "text": [
      "thread-1thread-2 çalışıyor çalışıyor\n",
      "thread-2 çalışıyor\n",
      "thread-2 çalışıyor\n",
      "thread-2 çalışıyor\n",
      "thread-2 çalışıyor\n",
      "\n",
      "thread-1 çalışıyor\n",
      "thread-1 çalışıyor\n",
      "thread-1 çalışıyor\n",
      "thread-1 çalışıyor\n",
      "thread-1 çalışıyor\n",
      "thread-1 çalışıyor\n"
     ]
    },
    {
     "data": {
      "text/plain": [
       "1556"
      ]
     },
     "execution_count": 2,
     "metadata": {},
     "output_type": "execute_result"
    },
    {
     "name": "stdout",
     "output_type": "stream",
     "text": [
      "thread-2 çalışıyor\n",
      "thread-2 çalışıyor\n"
     ]
    }
   ],
   "source": [
    "import _thread #_thread modülünü import ettik\n",
    "\n",
    "def f(threadName):  #threadin hedefi olan fonksiyon\n",
    "    i =0\n",
    "    \n",
    "    while i<7:\n",
    "        print(threadName ,\"çalışıyor\")\n",
    "        i=i+1\n",
    "\n",
    "\n",
    "_thread.start_new_thread(f,(\"thread-1\",)) #thread tanımladık ve aynı zamanda threadi start metodu ile çalıştırdık\n",
    "_thread.start_new_thread(f,(\"thread-2\",))\n",
    "\n",
    "\n"
   ]
  },
  {
   "cell_type": "code",
   "execution_count": 8,
   "metadata": {
    "scrolled": true
   },
   "outputs": [
    {
     "name": "stdout",
     "output_type": "stream",
     "text": [
      "4\n",
      "[<_MainThread(MainThread, started 11804)>, <Thread(Thread-4, started daemon 12212)>, <Heartbeat(Thread-5, started daemon 11940)>, <HistorySavingThread(IPythonHistorySavingThread, started 10984)>]\n",
      "<_MainThread(MainThread, started 11804)>\n",
      "11804\n"
     ]
    }
   ],
   "source": [
    "import threading #threading modülünü import ettik\n",
    "\n",
    "\n",
    "def f(threadName): \n",
    "    i =0\n",
    "    while i<10:\n",
    "        #print(threadName ,\"çalışıyor\")\n",
    "        i=i+1\n",
    "\n",
    "\n",
    "t1 = threading.Thread(target=f,args = (\"thread-1\", ))  #threadi tanımladık ve f fonksiyonunu hedef gösterdik\n",
    "t1.start() #threadi çalıştırdık\n",
    "\n",
    "print(threading.activeCount())  #çalışan thread sayısı\n",
    "\n",
    "print(threading.enumerate())    #çalışan thread listesi\n",
    "\n",
    "print(threading.main_thread())  #main thread\n",
    "\n",
    "print(threading.get_ident())    #thread tanımlayıcısı"
   ]
  },
  {
   "cell_type": "code",
   "execution_count": null,
   "metadata": {},
   "outputs": [],
   "source": []
  },
  {
   "cell_type": "code",
   "execution_count": null,
   "metadata": {},
   "outputs": [],
   "source": []
  },
  {
   "cell_type": "code",
   "execution_count": null,
   "metadata": {},
   "outputs": [],
   "source": []
  }
 ],
 "metadata": {
  "kernelspec": {
   "display_name": "Python 3",
   "language": "python",
   "name": "python3"
  },
  "language_info": {
   "codemirror_mode": {
    "name": "ipython",
    "version": 3
   },
   "file_extension": ".py",
   "mimetype": "text/x-python",
   "name": "python",
   "nbconvert_exporter": "python",
   "pygments_lexer": "ipython3",
   "version": "3.7.0"
  }
 },
 "nbformat": 4,
 "nbformat_minor": 2
}
