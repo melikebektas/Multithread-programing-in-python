{
 "cells": [
  {
   "cell_type": "code",
   "execution_count": 1,
   "metadata": {},
   "outputs": [
    {
     "name": "stdout",
     "output_type": "stream",
     "text": [
      "Thread-1: Sun Nov 11 20:42:56 2018\n",
      "Thread-1: Sun Nov 11 20:42:57 2018\n",
      "Thread-2: Sun Nov 11 20:42:58 2018\n",
      "Thread-1: Sun Nov 11 20:42:58 2018\n",
      "Thread-1: Sun Nov 11 20:42:59 2018\n",
      "Thread-1: Sun Nov 11 20:43:00 2018\n",
      "Thread-2: Sun Nov 11 20:43:01 2018\n",
      "Thread-2: Sun Nov 11 20:43:04 2018\n",
      "Thread-2: Sun Nov 11 20:43:07 2018\n",
      "Thread-2: Sun Nov 11 20:43:10 2018\n"
     ]
    }
   ],
   "source": [
    "import _thread\n",
    "import time\n",
    "\n",
    "# threadin yapması gereken isleri fonksiyonun içerisinde tanimliyoruz\n",
    "def print_time( threadName, beklemeSuresi):\n",
    "    count = 0\n",
    "    while count < 5:\n",
    "        time.sleep(beklemeSuresi)\n",
    "        count += 1\n",
    "        print (\"%s: %s\" % ( threadName, time.ctime(time.time()) ))\n",
    "\n",
    "# İki thread olusturduk ve çalistirdik\n",
    "try:\n",
    "    _thread.start_new_thread( print_time, (\"Thread-1\", 1,) )\n",
    "    _thread.start_new_thread( print_time, (\"Thread-2\", 3,) )\n",
    "except:\n",
    "    print (\"Error : thread çalışmadı\")\n"
   ]
  },
  {
   "cell_type": "code",
   "execution_count": null,
   "metadata": {},
   "outputs": [],
   "source": []
  }
 ],
 "metadata": {
  "kernelspec": {
   "display_name": "Python 3",
   "language": "python",
   "name": "python3"
  },
  "language_info": {
   "codemirror_mode": {
    "name": "ipython",
    "version": 3
   },
   "file_extension": ".py",
   "mimetype": "text/x-python",
   "name": "python",
   "nbconvert_exporter": "python",
   "pygments_lexer": "ipython3",
   "version": "3.7.0"
  }
 },
 "nbformat": 4,
 "nbformat_minor": 2
}
