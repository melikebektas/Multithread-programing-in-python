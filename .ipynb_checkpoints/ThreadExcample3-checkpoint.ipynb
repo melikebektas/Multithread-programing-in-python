{
 "cells": [
  {
   "cell_type": "code",
   "execution_count": 1,
   "metadata": {},
   "outputs": [
    {
     "ename": "SyntaxError",
     "evalue": "Missing parentheses in call to 'print'. Did you mean print(\"Starting \" + self.name)? (<ipython-input-1-dd53bfa680f3>, line 11)",
     "output_type": "error",
     "traceback": [
      "\u001b[1;36m  File \u001b[1;32m\"<ipython-input-1-dd53bfa680f3>\"\u001b[1;36m, line \u001b[1;32m11\u001b[0m\n\u001b[1;33m    print \"Starting \" + self.name\u001b[0m\n\u001b[1;37m                    ^\u001b[0m\n\u001b[1;31mSyntaxError\u001b[0m\u001b[1;31m:\u001b[0m Missing parentheses in call to 'print'. Did you mean print(\"Starting \" + self.name)?\n"
     ]
    }
   ],
   "source": [
    "import threading\n",
    "import time\n",
    "\n",
    "class myThread (threading.Thread):\n",
    "    def __init__(self, threadID, name, counter):\n",
    "        threading.Thread.__init__(self)\n",
    "        self.threadID = threadID\n",
    "        self.name = name\n",
    "        self.counter = counter\n",
    "    def run(self):\n",
    "        print (\"Starting \" + self.name)\n",
    "        # Get lock to synchronize threads\n",
    "        threadLock.acquire()\n",
    "        print_time(self.name, self.counter, 3)\n",
    "         # Free lock to release next thread\n",
    "        threadLock.release()\n",
    "\n",
    "def print_time(threadName, delay, counter):\n",
    "    while counter:\n",
    "        time.sleep(delay)\n",
    "        print (\"%s: %s\" % (threadName, time.ctime(time.time())))\n",
    "        counter -= 1\n",
    "\n",
    "threadLock = threading.Lock()\n",
    "threads = []\n",
    "\n",
    "# Create new threads\n",
    "thread1 = myThread(1, \"Thread-1\", 1)\n",
    "thread2 = myThread(2, \"Thread-2\", 2)\n",
    "\n",
    "# Start new Threads\n",
    "thread1.start()\n",
    "thread2.start()\n",
    "\n",
    "# Add threads to thread list\n",
    "threads.append(thread1)\n",
    "threads.append(thread2)\n",
    "\n",
    "# Wait for all threads to complete\n",
    "for t in threads:\n",
    "    t.join()\n",
    "print (\"Exiting Main Thread\")"
   ]
  },
  {
   "cell_type": "code",
   "execution_count": null,
   "metadata": {},
   "outputs": [],
   "source": []
  }
 ],
 "metadata": {
  "kernelspec": {
   "display_name": "Python 3",
   "language": "python",
   "name": "python3"
  },
  "language_info": {
   "codemirror_mode": {
    "name": "ipython",
    "version": 3
   },
   "file_extension": ".py",
   "mimetype": "text/x-python",
   "name": "python",
   "nbconvert_exporter": "python",
   "pygments_lexer": "ipython3",
   "version": "3.7.0"
  }
 },
 "nbformat": 4,
 "nbformat_minor": 2
}
